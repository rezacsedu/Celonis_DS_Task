{
  "nbformat": 4,
  "nbformat_minor": 0,
  "metadata": {
    "colab": {
      "name": "LR-datprep.ipynb",
      "provenance": [],
      "collapsed_sections": []
    },
    "kernelspec": {
      "name": "python3",
      "display_name": "Python 3"
    },
    "language_info": {
      "name": "python"
    }
  },
  "cells": [
    {
      "cell_type": "code",
      "source": [
        "!pip install pyunpack\n",
        "!pip install patool"
      ],
      "metadata": {
        "colab": {
          "base_uri": "https://localhost:8080/"
        },
        "id": "Mgivez8vZD2u",
        "outputId": "18aa3b23-5625-4e00-d617-77addebd3fcd"
      },
      "execution_count": 1,
      "outputs": [
        {
          "output_type": "stream",
          "name": "stdout",
          "text": [
            "Collecting pyunpack\n",
            "  Downloading pyunpack-0.2.2-py2.py3-none-any.whl (3.8 kB)\n",
            "Collecting easyprocess\n",
            "  Downloading EasyProcess-1.1-py3-none-any.whl (8.7 kB)\n",
            "Collecting entrypoint2\n",
            "  Downloading entrypoint2-1.0-py3-none-any.whl (9.8 kB)\n",
            "Installing collected packages: entrypoint2, easyprocess, pyunpack\n",
            "Successfully installed easyprocess-1.1 entrypoint2-1.0 pyunpack-0.2.2\n",
            "Collecting patool\n",
            "  Downloading patool-1.12-py2.py3-none-any.whl (77 kB)\n",
            "\u001b[K     |████████████████████████████████| 77 kB 6.2 MB/s \n",
            "\u001b[?25hInstalling collected packages: patool\n",
            "Successfully installed patool-1.12\n"
          ]
        }
      ]
    },
    {
      "cell_type": "code",
      "execution_count": 2,
      "metadata": {
        "id": "ZiNBCbjhUvgL"
      },
      "outputs": [],
      "source": [
        "import requests\n",
        "import os\n",
        "import pyunpack\n",
        "import pandas as pd\n",
        "import re\n",
        "import numpy as np"
      ]
    },
    {
      "cell_type": "code",
      "source": [
        "def download_data(remote_url,data_dir):\n",
        "  # Function to download the Zip file given and save it to a specified directory\n",
        "  os.mkdir(data_dir)\n",
        "  data_file = os.path.join(data_dir, 'uWaveGestureLibrary.zip')\n",
        "  data = requests.get(remote_url)\n",
        "  with open(data_file, 'wb')as file:\n",
        "    file.write(data.content)"
      ],
      "metadata": {
        "id": "1Jyz3aYzU9SK"
      },
      "execution_count": 3,
      "outputs": []
    },
    {
      "cell_type": "code",
      "source": [
        "def unzip_data(data_dir):\n",
        "  # Function to extract Zip file and rar files recursively\n",
        "  arch = pyunpack.Archive(os.path.join(data_dir,'uWaveGestureLibrary.zip'))\n",
        "  arch.extractall(directory=data_dir)\n",
        "  os.remove(os.path.join(data_dir,'uWaveGestureLibrary.zip'))\n",
        "\n",
        "  for root, dirs, files in os.walk(data_dir):\n",
        "      for filename in files:\n",
        "          if filename.endswith(\".rar\") :\n",
        "              print('Extracting '+os.path.join(root,filename))\n",
        "          else:\n",
        "              print('Removing '+os.path.join(root,filename))\n",
        "              os.remove(os.path.join(root,filename))\n",
        "          if filename.endswith(\".rar\"):\n",
        "              name = os.path.splitext(os.path.basename(filename))[0]\n",
        "              try:\n",
        "                  arch = pyunpack.Archive(os.path.join(root,filename))\n",
        "                  item_dir = os.path.join(root,name)\n",
        "                  os.mkdir(item_dir)\n",
        "                  arch.extractall(directory=item_dir)\n",
        "                  os.remove(os.path.join(root,filename))\n",
        "              except Exception as e:\n",
        "                  print(\"ERROR: BAD ARCHIVE \"+os.path.join(root,filename))\n",
        "                  print(e)              "
      ],
      "metadata": {
        "id": "fK5S_hv0Wayh"
      },
      "execution_count": 4,
      "outputs": []
    },
    {
      "cell_type": "code",
      "source": [
        "def extract_data(data_dir):\n",
        "  # Function to extract data from text files and load them to a pandas DataFrame\n",
        "  for root, dirs, files in os.walk(data_dir):\n",
        "      data_df = pd.DataFrame(columns=['x-acc','y-acc','z-acc','gesture','repetition','item_id'])\n",
        "      item_id = 1\n",
        "      for filename in files:\n",
        "        if filename.endswith('.txt') and 'Template_Acceleration' in filename:\n",
        "              item_df = pd.read_table(os.path.join(root, filename),delimiter = ' ',header=None, names=['x-acc','y-acc','z-acc','gesture','repetition'])\n",
        "              size = len(item_df)\n",
        "              m = re.search('Template_Acceleration(.+?).txt', filename)\n",
        "              ges_rep = m.group(1).split('-')\n",
        "              gesture = int(ges_rep[0])\n",
        "              if ges_rep[1] != '':\n",
        "                repetition = int(ges_rep[1])\n",
        "              else:\n",
        "                repetition = np.nan\n",
        "              item_df['gesture'] = [gesture] * size\n",
        "              item_df['repetition'] = [repetition] * size\n",
        "              item_df['item_id'] = [item_id] * size\n",
        "              data_df = data_df.append(item_df)\n",
        "\n",
        "              item_id +=1\n",
        "  return data_df"
      ],
      "metadata": {
        "id": "vjsmUuNOZZke"
      },
      "execution_count": 5,
      "outputs": []
    },
    {
      "cell_type": "code",
      "source": [
        "def get_data(remote_url,data_dir):\n",
        "  # Function to complete data preparation \n",
        "  download_data(remote_url,data_dir)\n",
        "  unzip_data(data_dir)\n",
        "  data_df = extract_data(data_dir)\n",
        "  X = np.array(data_df[['x-acc','y-acc','z-acc']])\n",
        "  y = np.array(data_df['gesture'])\n",
        "  return X,y"
      ],
      "metadata": {
        "id": "6xoSdAPzk4vs"
      },
      "execution_count": 6,
      "outputs": []
    },
    {
      "cell_type": "code",
      "source": [
        "remote_url = 'http://zhen-wang.appspot.com/rice/files/uwave/uWaveGestureLibrary.zip'\n",
        "data_dir = './data'\n",
        "X,y = get_data(remote_url, data_dir)"
      ],
      "metadata": {
        "colab": {
          "base_uri": "https://localhost:8080/"
        },
        "id": "si0yFXle7R-s",
        "outputId": "2450efe1-0e3c-424c-e888-5e5451407338"
      },
      "execution_count": 7,
      "outputs": [
        {
          "output_type": "stream",
          "name": "stdout",
          "text": [
            "Extracting ./data/U7 (2).rar\n",
            "Extracting ./data/U8 (6).rar\n",
            "Extracting ./data/U5 (4).rar\n",
            "Extracting ./data/U2 (4).rar\n",
            "Extracting ./data/U5 (7).rar\n",
            "Extracting ./data/U2 (7).rar\n",
            "Extracting ./data/U8 (1).rar\n",
            "Extracting ./data/U7 (7).rar\n",
            "Extracting ./data/U8 (2).rar\n",
            "Extracting ./data/U6 (4).rar\n",
            "Extracting ./data/U4 (7).rar\n",
            "Extracting ./data/U7 (6).rar\n",
            "Extracting ./data/U6 (1).rar\n",
            "Extracting ./data/U1 (6).rar\n",
            "Extracting ./data/U7 (3).rar\n",
            "Extracting ./data/U1 (7).rar\n",
            "Extracting ./data/U6 (3).rar\n",
            "Extracting ./data/U3 (4).rar\n",
            "Extracting ./data/U3 (2).rar\n",
            "Extracting ./data/U3 (6).rar\n",
            "Extracting ./data/U2 (1).rar\n",
            "Extracting ./data/U1 (2).rar\n",
            "Extracting ./data/U6 (2).rar\n",
            "Extracting ./data/U5 (1).rar\n",
            "Extracting ./data/U1 (3).rar\n",
            "Extracting ./data/U8 (7).rar\n",
            "Extracting ./data/U6 (5).rar\n",
            "Extracting ./data/U3 (3).rar\n",
            "Extracting ./data/U5 (5).rar\n",
            "Extracting ./data/U4 (3).rar\n",
            "Extracting ./data/U4 (5).rar\n",
            "Extracting ./data/U8 (3).rar\n",
            "Extracting ./data/U2 (2).rar\n",
            "Extracting ./data/U4 (1).rar\n",
            "Extracting ./data/U3 (1).rar\n",
            "Removing ./data/Readme.txt\n",
            "ZIP:./data/Readme.txt\n",
            "Extracting ./data/U3 (5).rar\n",
            "Extracting ./data/U8 (4).rar\n",
            "Extracting ./data/U4 (6).rar\n",
            "Extracting ./data/U4 (2).rar\n",
            "Extracting ./data/U6 (6).rar\n",
            "Extracting ./data/U5 (3).rar\n",
            "Extracting ./data/U6 (7).rar\n",
            "Extracting ./data/U5 (2).rar\n",
            "Extracting ./data/U5 (6).rar\n",
            "Extracting ./data/U2 (3).rar\n",
            "Extracting ./data/U2 (6).rar\n",
            "Extracting ./data/U7 (4).rar\n",
            "Extracting ./data/U8 (5).rar\n",
            "Extracting ./data/U7 (1).rar\n",
            "Extracting ./data/U4 (4).rar\n",
            "Extracting ./data/U2 (5).rar\n",
            "Extracting ./data/U1 (5).rar\n",
            "Extracting ./data/U3 (7).rar\n",
            "Extracting ./data/U1 (4).rar\n",
            "Extracting ./data/U1 (1).rar\n",
            "Extracting ./data/U7 (5).rar\n"
          ]
        }
      ]
    },
    {
      "cell_type": "code",
      "source": [
        "X.shape"
      ],
      "metadata": {
        "colab": {
          "base_uri": "https://localhost:8080/"
        },
        "id": "Vr1YrAlwBHh9",
        "outputId": "a57f57d8-4ba0-4b0a-95d7-33cdb9479804"
      },
      "execution_count": 9,
      "outputs": [
        {
          "output_type": "execute_result",
          "data": {
            "text/plain": [
              "(12786, 3)"
            ]
          },
          "metadata": {},
          "execution_count": 9
        }
      ]
    },
    {
      "cell_type": "code",
      "source": [
        ""
      ],
      "metadata": {
        "id": "7TDXCsu-BnT8"
      },
      "execution_count": null,
      "outputs": []
    }
  ]
}